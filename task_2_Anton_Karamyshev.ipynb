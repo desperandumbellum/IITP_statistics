{
 "cells": [
  {
   "cell_type": "code",
   "execution_count": 1,
   "metadata": {
    "ExecuteTime": {
     "end_time": "2022-04-25T11:55:49.592415Z",
     "start_time": "2022-04-25T11:55:48.878640Z"
    }
   },
   "outputs": [],
   "source": [
    "import numpy as np\n",
    "import scipy\n",
    "import scipy.stats\n",
    "import pandas as pd\n",
    "import matplotlib.pyplot as plt"
   ]
  },
  {
   "cell_type": "markdown",
   "metadata": {},
   "source": [
    "# Homework 2\n",
    "## Hypothesis testing"
   ]
  },
  {
   "cell_type": "markdown",
   "metadata": {},
   "source": [
    "Maximum number of points for this hometask is 10. Some tasks allow you to get a bonus point, that **can not** increase your total score for the homework beyond the maximum, but can compensate for some occasionally lost points."
   ]
  },
  {
   "cell_type": "markdown",
   "metadata": {},
   "source": [
    "### Task 1 (1.5 points)"
   ]
  },
  {
   "cell_type": "markdown",
   "metadata": {},
   "source": [
    "A randomized, double-blind experiment was conducted to assess the\n",
    "effectiveness of several drugs for reducing postoperative nausea. The\n",
    "data are as follows:"
   ]
  },
  {
   "cell_type": "code",
   "execution_count": 2,
   "metadata": {
    "ExecuteTime": {
     "end_time": "2022-04-25T11:55:49.611701Z",
     "start_time": "2022-04-25T11:55:49.594383Z"
    }
   },
   "outputs": [
    {
     "data": {
      "text/html": [
       "<div>\n",
       "<style scoped>\n",
       "    .dataframe tbody tr th:only-of-type {\n",
       "        vertical-align: middle;\n",
       "    }\n",
       "\n",
       "    .dataframe tbody tr th {\n",
       "        vertical-align: top;\n",
       "    }\n",
       "\n",
       "    .dataframe thead th {\n",
       "        text-align: right;\n",
       "    }\n",
       "</style>\n",
       "<table border=\"1\" class=\"dataframe\">\n",
       "  <thead>\n",
       "    <tr style=\"text-align: right;\">\n",
       "      <th></th>\n",
       "      <th>Drug</th>\n",
       "      <th>Number of Patients</th>\n",
       "      <th>Incidence of Nausea</th>\n",
       "    </tr>\n",
       "  </thead>\n",
       "  <tbody>\n",
       "    <tr>\n",
       "      <th>0</th>\n",
       "      <td>Placebo</td>\n",
       "      <td>80</td>\n",
       "      <td>45</td>\n",
       "    </tr>\n",
       "    <tr>\n",
       "      <th>1</th>\n",
       "      <td>Chlorpromazine</td>\n",
       "      <td>75</td>\n",
       "      <td>26</td>\n",
       "    </tr>\n",
       "    <tr>\n",
       "      <th>2</th>\n",
       "      <td>Dimenhydrinate</td>\n",
       "      <td>85</td>\n",
       "      <td>52</td>\n",
       "    </tr>\n",
       "    <tr>\n",
       "      <th>3</th>\n",
       "      <td>Pentobarbital (100 mg)</td>\n",
       "      <td>67</td>\n",
       "      <td>35</td>\n",
       "    </tr>\n",
       "    <tr>\n",
       "      <th>4</th>\n",
       "      <td>Pentobarbital (150 mg)</td>\n",
       "      <td>85</td>\n",
       "      <td>37</td>\n",
       "    </tr>\n",
       "  </tbody>\n",
       "</table>\n",
       "</div>"
      ],
      "text/plain": [
       "                     Drug  Number of Patients  Incidence of Nausea\n",
       "0                 Placebo                  80                   45\n",
       "1          Chlorpromazine                  75                   26\n",
       "2          Dimenhydrinate                  85                   52\n",
       "3  Pentobarbital (100 mg)                  67                   35\n",
       "4  Pentobarbital (150 mg)                  85                   37"
      ]
     },
     "execution_count": 2,
     "metadata": {},
     "output_type": "execute_result"
    }
   ],
   "source": [
    "df1 = pd.DataFrame({'Drug': ['Placebo', 'Chlorpromazine', 'Dimenhydrinate', 'Pentobarbital (100 mg)', 'Pentobarbital (150 mg)'],\n",
    "                    'Number of Patients': [80, 75, 85, 67, 85],\n",
    "                    'Incidence of Nausea': [45, 26, 52, 35, 37]})\n",
    "df1"
   ]
  },
  {
   "cell_type": "markdown",
   "metadata": {},
   "source": [
    "Test each drug versus the placebo at the 5 per cent level. Also, report\n",
    "the estimated odds–ratios. Summarize your findings. (1.5 points)\n",
    "*Hint*. Use simple $H_0$: \"$p = p_0$\"."
   ]
  },
  {
   "cell_type": "markdown",
   "metadata": {},
   "source": [
    "**Solution:**"
   ]
  },
  {
   "cell_type": "code",
   "execution_count": 3,
   "metadata": {
    "ExecuteTime": {
     "end_time": "2022-04-25T11:55:49.646761Z",
     "start_time": "2022-04-25T11:55:49.614855Z"
    }
   },
   "outputs": [
    {
     "data": {
      "text/html": [
       "<div>\n",
       "<style scoped>\n",
       "    .dataframe tbody tr th:only-of-type {\n",
       "        vertical-align: middle;\n",
       "    }\n",
       "\n",
       "    .dataframe tbody tr th {\n",
       "        vertical-align: top;\n",
       "    }\n",
       "\n",
       "    .dataframe thead th {\n",
       "        text-align: right;\n",
       "    }\n",
       "</style>\n",
       "<table border=\"1\" class=\"dataframe\">\n",
       "  <thead>\n",
       "    <tr style=\"text-align: right;\">\n",
       "      <th></th>\n",
       "      <th>Drug</th>\n",
       "      <th>OR</th>\n",
       "      <th>p-val</th>\n",
       "    </tr>\n",
       "  </thead>\n",
       "  <tbody>\n",
       "    <tr>\n",
       "      <th>0</th>\n",
       "      <td>Chlorpromazine</td>\n",
       "      <td>2.42308</td>\n",
       "      <td>0.00570339</td>\n",
       "    </tr>\n",
       "    <tr>\n",
       "      <th>1</th>\n",
       "      <td>Dimenhydrinate</td>\n",
       "      <td>0.815934</td>\n",
       "      <td>0.520232</td>\n",
       "    </tr>\n",
       "    <tr>\n",
       "      <th>2</th>\n",
       "      <td>Pentobarbital (100 mg)</td>\n",
       "      <td>1.17551</td>\n",
       "      <td>0.626664</td>\n",
       "    </tr>\n",
       "    <tr>\n",
       "      <th>3</th>\n",
       "      <td>Pentobarbital (150 mg)</td>\n",
       "      <td>1.66795</td>\n",
       "      <td>0.0996392</td>\n",
       "    </tr>\n",
       "  </tbody>\n",
       "</table>\n",
       "</div>"
      ],
      "text/plain": [
       "                     Drug        OR       p-val\n",
       "0          Chlorpromazine   2.42308  0.00570339\n",
       "1          Dimenhydrinate  0.815934    0.520232\n",
       "2  Pentobarbital (100 mg)   1.17551    0.626664\n",
       "3  Pentobarbital (150 mg)   1.66795   0.0996392"
      ]
     },
     "execution_count": 3,
     "metadata": {},
     "output_type": "execute_result"
    }
   ],
   "source": [
    "placebo_idx = df1[df1['Drug']=='Placebo'].index.item()\n",
    "\n",
    "hats = df1['Incidence of Nausea']/df1['Number of Patients']\n",
    "se = np.sqrt((hats * (1 - hats))/df1['Number of Patients'])\n",
    "\n",
    "odds = hats / (1 - hats)\n",
    "placebo_OR = odds[placebo_idx]/odds\n",
    "\n",
    "# The absolute number of tests is huge enough, so let use asymptotic estimation (Wald test, normal cdf) instead of \"binomial games\".\n",
    "Wald = (hats - hats[placebo_idx])/np.sqrt(se**2 + se[placebo_idx]**2)\n",
    "p_val = 2. * (1 - scipy.stats.norm.cdf(abs(Wald), loc=0.0, scale=1.0))\n",
    "\n",
    "res = pd.DataFrame(np.array([df1.Drug.values, placebo_OR, p_val]).T[1:], columns = ['Drug', 'OR', 'p-val'])\n",
    "# The null hypothesis is *strongly* rejected (p_val ~ 0.5%) only for the Chlorpromazine with the highest odd-rate (~2.4).\n",
    "# For the rest, it is impossible to say for sure whether the null hypothesis is true or not.\n",
    "res"
   ]
  },
  {
   "cell_type": "markdown",
   "metadata": {},
   "source": [
    "### Task 2: permutation test (2 points)"
   ]
  },
  {
   "cell_type": "markdown",
   "metadata": {},
   "source": [
    "For this task we will use the famous Iris dataset, originaly studied by R.A. Fisher himself."
   ]
  },
  {
   "cell_type": "code",
   "execution_count": 4,
   "metadata": {
    "ExecuteTime": {
     "end_time": "2022-04-25T11:55:49.747513Z",
     "start_time": "2022-04-25T11:55:49.648895Z"
    },
    "scrolled": true
   },
   "outputs": [
    {
     "data": {
      "text/html": [
       "<div>\n",
       "<style scoped>\n",
       "    .dataframe tbody tr th:only-of-type {\n",
       "        vertical-align: middle;\n",
       "    }\n",
       "\n",
       "    .dataframe tbody tr th {\n",
       "        vertical-align: top;\n",
       "    }\n",
       "\n",
       "    .dataframe thead th {\n",
       "        text-align: right;\n",
       "    }\n",
       "</style>\n",
       "<table border=\"1\" class=\"dataframe\">\n",
       "  <thead>\n",
       "    <tr style=\"text-align: right;\">\n",
       "      <th></th>\n",
       "      <th>sepal_length</th>\n",
       "      <th>sepal_width</th>\n",
       "      <th>petal_length</th>\n",
       "      <th>petal_width</th>\n",
       "      <th>species</th>\n",
       "    </tr>\n",
       "  </thead>\n",
       "  <tbody>\n",
       "    <tr>\n",
       "      <th>0</th>\n",
       "      <td>5.1</td>\n",
       "      <td>3.5</td>\n",
       "      <td>1.4</td>\n",
       "      <td>0.2</td>\n",
       "      <td>setosa</td>\n",
       "    </tr>\n",
       "    <tr>\n",
       "      <th>1</th>\n",
       "      <td>4.9</td>\n",
       "      <td>3.0</td>\n",
       "      <td>1.4</td>\n",
       "      <td>0.2</td>\n",
       "      <td>setosa</td>\n",
       "    </tr>\n",
       "    <tr>\n",
       "      <th>2</th>\n",
       "      <td>4.7</td>\n",
       "      <td>3.2</td>\n",
       "      <td>1.3</td>\n",
       "      <td>0.2</td>\n",
       "      <td>setosa</td>\n",
       "    </tr>\n",
       "    <tr>\n",
       "      <th>3</th>\n",
       "      <td>4.6</td>\n",
       "      <td>3.1</td>\n",
       "      <td>1.5</td>\n",
       "      <td>0.2</td>\n",
       "      <td>setosa</td>\n",
       "    </tr>\n",
       "    <tr>\n",
       "      <th>4</th>\n",
       "      <td>5.0</td>\n",
       "      <td>3.6</td>\n",
       "      <td>1.4</td>\n",
       "      <td>0.2</td>\n",
       "      <td>setosa</td>\n",
       "    </tr>\n",
       "  </tbody>\n",
       "</table>\n",
       "</div>"
      ],
      "text/plain": [
       "   sepal_length  sepal_width  petal_length  petal_width species\n",
       "0           5.1          3.5           1.4          0.2  setosa\n",
       "1           4.9          3.0           1.4          0.2  setosa\n",
       "2           4.7          3.2           1.3          0.2  setosa\n",
       "3           4.6          3.1           1.5          0.2  setosa\n",
       "4           5.0          3.6           1.4          0.2  setosa"
      ]
     },
     "execution_count": 4,
     "metadata": {},
     "output_type": "execute_result"
    }
   ],
   "source": [
    "iris = pd.read_csv('https://raw.githubusercontent.com/mwaskom/seaborn-data/master/iris.csv')\n",
    "iris.head()"
   ]
  },
  {
   "cell_type": "markdown",
   "metadata": {},
   "source": [
    "We will select two species: *setosa* and *virginica* and study the sepal length."
   ]
  },
  {
   "cell_type": "code",
   "execution_count": 5,
   "metadata": {
    "ExecuteTime": {
     "end_time": "2022-04-25T11:55:49.753896Z",
     "start_time": "2022-04-25T11:55:49.749065Z"
    }
   },
   "outputs": [],
   "source": [
    "X = iris[iris.species == 'setosa']['sepal_length'].values #length, not width!\n",
    "Y = iris[iris.species == 'virginica']['sepal_length'].values #length, not width!"
   ]
  },
  {
   "cell_type": "markdown",
   "metadata": {},
   "source": [
    "Test the hypothesis $H_0$: quantile of level 0.2 (20 percentile, lower 20%) of the sepal length of *setosa* flowers is equal to that of *virginica* flowers. Use permutation test, approximate the full permutation distribution with 10,000 samples. \n"
   ]
  },
  {
   "cell_type": "markdown",
   "metadata": {},
   "source": [
    "**Solution:**"
   ]
  },
  {
   "cell_type": "code",
   "execution_count": 6,
   "metadata": {
    "ExecuteTime": {
     "end_time": "2022-04-25T11:55:51.280526Z",
     "start_time": "2022-04-25T11:55:49.755417Z"
    }
   },
   "outputs": [
    {
     "name": "stdout",
     "output_type": "stream",
     "text": [
      "p_val = 0.0\n"
     ]
    },
    {
     "data": {
      "image/png": "[encoded data removed]",
      "text/plain": [
       "<Figure size 576x432 with 1 Axes>"
      ]
     },
     "metadata": {
      "needs_background": "light"
     },
     "output_type": "display_data"
    }
   ],
   "source": [
    "N = 10_000\n",
    "n = X.shape[0]\n",
    "m = Y.shape[0]\n",
    "p = 20\n",
    "\n",
    "sample = np.array(np.hstack((X, Y)))\n",
    "T_values_set = np.zeros(N)\n",
    "for i in range(N):\n",
    "    permutated = np.random.permutation(sample)\n",
    "    q_p_X = np.percentile(permutated[:n], p, interpolation = 'lower')\n",
    "    q_p_Y = np.percentile(permutated[n:], p, interpolation = 'lower')\n",
    "    T_values_set[i] = abs(q_p_X - q_p_Y)\n",
    "        \n",
    "t_obs = abs(np.percentile(X, p, interpolation = 'lower') - np.percentile(Y, p, interpolation = 'lower'))\n",
    "print(f'p_val = {np.sum(T_values_set > t_obs)/N}')\n",
    "\n",
    "plt.figure(figsize=(8, 6))\n",
    "plt.hist(T_values_set, alpha = 0.4, facecolor = 'cyan', edgecolor = 'blue', hatch = '\\\\')\n",
    "plt.axvline(t_obs, color = 'black', ls = '--')\n",
    "plt.xlim(left=0)\n",
    "plt.xlabel('$T$')\n",
    "plt.grid()\n",
    "plt.show()\n",
    "\n",
    "# p_val ~ 0, so we can easily reject the null hypothesis, i.e. we can conclude that the quantiles of the distributions do not coincide. \n",
    "# It is worth noting that the \"true\" p_val != 0, yet we got exactly 0 because of the limited power of the set of permutations, i.e. 10000 << 100!."
   ]
  },
  {
   "cell_type": "markdown",
   "metadata": {},
   "source": [
    "### Task 3: computational approach to hypothesis testing"
   ]
  },
  {
   "cell_type": "markdown",
   "metadata": {},
   "source": [
    "STRONGLY Recommended reading: http://allendowney.blogspot.com/2016/06/there-is-still-only-one-test.html"
   ]
  },
  {
   "cell_type": "markdown",
   "metadata": {},
   "source": [
    "Consider the following dataset (service hours between failures of the air-conditioning equipment in a Boeing 720 jet aircraft , Proschan, 1963):"
   ]
  },
  {
   "cell_type": "code",
   "execution_count": 7,
   "metadata": {
    "ExecuteTime": {
     "end_time": "2022-04-25T11:55:51.285725Z",
     "start_time": "2022-04-25T11:55:51.282161Z"
    }
   },
   "outputs": [],
   "source": [
    "Y = np.array([3, 5, 7, 18, 43, 85, 91, 98, 100, 130, 230, 487])"
   ]
  },
  {
   "cell_type": "markdown",
   "metadata": {},
   "source": [
    "This sample was sorted for easier presentation."
   ]
  },
  {
   "cell_type": "markdown",
   "metadata": {},
   "source": [
    "1. Compute an estimate of the median time between failures (1 point)\n",
    "2. Consider the null hypothesis $H_0$ to be: \"median time between failures is one week\" (1 point)\n",
    "3. What distribution will you choose for this kind of data under $H_0$? (1 point)\n",
    "4. Choose a statistic to measure the deviation from $H_0$ (effect size) (1 point)\n",
    "5. Check whether you can reject $H_0$ at significance level 5% and calculate the corresponding approximate $p$-value. Use 10,000 simulations for your experiment (1 point)\n",
    "6. Plot histogram of simulated effect sizes and mark the observed effect size (1 bouns point)"
   ]
  },
  {
   "cell_type": "markdown",
   "metadata": {},
   "source": [
    "**Solution:**"
   ]
  },
  {
   "cell_type": "code",
   "execution_count": 8,
   "metadata": {
    "ExecuteTime": {
     "end_time": "2022-04-25T11:55:53.550301Z",
     "start_time": "2022-04-25T11:55:51.288996Z"
    }
   },
   "outputs": [
    {
     "name": "stdout",
     "output_type": "stream",
     "text": [
      "88.0 108.08333333333333\n",
      "exp, p_val = 0.253\n",
      "uniform, p_val = 0.0609\n"
     ]
    },
    {
     "data": {
      "image/png": "[encoded data removed]",
      "text/plain": [
       "<Figure size 576x432 with 1 Axes>"
      ]
     },
     "metadata": {
      "needs_background": "light"
     },
     "output_type": "display_data"
    }
   ],
   "source": [
    "n = Y.shape[0]\n",
    "\n",
    "#1. Compute an estimate of the median time between failures\n",
    "# An estimate of the median can obviously be an empirical median or empirical mean.\n",
    "print(np.median(Y), np.mean(Y))\n",
    "\n",
    "#2. Consider the null hypothesis 𝐻0 to be: \"median time between failures is one week\" (1 point)\n",
    "# H_0: median(sample) > threshold = 7*24 hours.\n",
    "threshold = 7*24\n",
    "\n",
    "#3. What distribution will you choose for this kind of data under 𝐻0\n",
    "# Let us use the straightforward model of exponential time distribution (aka Poisson in the context of occurring events).\n",
    "# So, we can use the threhold value as the mu parameter, i.e., mu = mean = median = threhold.\n",
    "mu = threshold\n",
    "# As a silly alternative, let consider a uniform distribution on the interval [0, 2*threshold].\n",
    "\n",
    "#4. Choose a statistic to measure the deviation from H_0 (effect size)\n",
    "# Since we wanted to examine the median, let's use the median over the sample with the size of the original set (Y).\n",
    "# To facilitate further calculations, it is also proposed to shift this value by threshold and take the absolute value.\n",
    "# As a result, T = abs(np.median(sample) - threshold)\n",
    "\n",
    "#5. Check whether you can reject H_0 at significance level 5% and calculate the corresponding approximate 𝑝-value. \n",
    "# Use 10,000 simulations for your experiment\n",
    "N = 10_000\n",
    "T_values_set = np.zeros((N,2))\n",
    "for i in range(N):\n",
    "    sample = scipy.stats.expon.rvs(scale=mu, size=n)\n",
    "    T_values_set[i, 0] = abs(np.median(sample) - threshold)\n",
    "    sample = scipy.stats.uniform.rvs(scale=2*mu, size=n)\n",
    "    T_values_set[i, 1] = abs(np.median(sample) - threshold)\n",
    "    \n",
    "t_obs = abs(np.median(Y) - threshold)\n",
    "print(f'exp, p_val = {np.sum(T_values_set[:, 0] > t_obs)/N}')\n",
    "print(f'uniform, p_val = {np.sum(T_values_set[:, 1] > t_obs)/N}')\n",
    "# The resulting p-value for both model distributions is greater than 5%, so unfortunately we cannot reject the null hypothesis about median.\n",
    "\n",
    "#6. Plot histogram of simulated effect sizes and mark the observed effect size\n",
    "plt.figure(figsize=(8, 6))\n",
    "plt.hist(T_values_set[:, 0], bins=25, alpha = 0.4, facecolor = 'cyan', edgecolor = 'blue', hatch = '\\\\', label = 'exp')\n",
    "plt.hist(T_values_set[:, 1], bins=25, alpha = 0.4, facecolor = 'pink', edgecolor = 'red', hatch = '//', label = 'uniform')\n",
    "plt.axvline(t_obs, color = 'black', ls = '--')\n",
    "plt.annotate('$T^*$', (t_obs+3, 900))\n",
    "plt.legend()\n",
    "#plt.ylim(0, 1000)\n",
    "plt.xlabel('$T$')\n",
    "plt.grid()\n",
    "plt.show()\n",
    "\n",
    "# From the graphs also conclude that the p-value (the tail of the distribution to the right of the line) is also large enough to reject the null hypothesis."
   ]
  },
  {
   "cell_type": "markdown",
   "metadata": {},
   "source": [
    "### Task 4: power analysis"
   ]
  },
  {
   "cell_type": "markdown",
   "metadata": {},
   "source": [
    "In 1861, 10 essays appeared in the New Orleans Daily Crescent. They\n",
    "were signed “Quintus Curtius Snodgrass” and some people suspected\n",
    "they were actually written by Mark Twain. To investigate this, we will\n",
    "consider the proportion of three letter words found in an author’s work.\n",
    "From eight Twain essays we have:"
   ]
  },
  {
   "cell_type": "code",
   "execution_count": 9,
   "metadata": {
    "ExecuteTime": {
     "end_time": "2022-04-25T11:55:53.556473Z",
     "start_time": "2022-04-25T11:55:53.553984Z"
    }
   },
   "outputs": [],
   "source": [
    "X = np.array([.225, .262, .217, .240, .230, .229, .235, .217])"
   ]
  },
  {
   "cell_type": "markdown",
   "metadata": {},
   "source": [
    "From 10 Snodgrass essays we have:"
   ]
  },
  {
   "cell_type": "code",
   "execution_count": 10,
   "metadata": {
    "ExecuteTime": {
     "end_time": "2022-04-25T11:55:53.573470Z",
     "start_time": "2022-04-25T11:55:53.558211Z"
    }
   },
   "outputs": [],
   "source": [
    "Y = np.array([.209, .205, .196, .210, .202, .207, .224, .223, .220, .201])"
   ]
  },
  {
   "cell_type": "markdown",
   "metadata": {},
   "source": [
    "1. Perform a Wald test for equality of the means. Use the nonparametric plug-in estimator. Report the p-value and a 95 per cent confidence\n",
    "interval for the difference of means. What do you conclude? (1.5 points)\n",
    "2. Now use a permutation test to avoid the use of large sample methods.\n",
    "What is your conclusion? (Brinegar (1963)) (1.5 bonus points)\n",
    "3. Assume that samples do indeed come from different populations. Additionally, observed sample means and variaces for the two samples are equal to the true values for the respective population. Estimate the power of the two tests above under two model distributions for the data: Normal and [Beta](https://en.wikipedia.org/wiki/Beta_distribution) (2 bonus points)"
   ]
  },
  {
   "cell_type": "markdown",
   "metadata": {},
   "source": [
    "**Solution:**"
   ]
  },
  {
   "cell_type": "code",
   "execution_count": 11,
   "metadata": {
    "ExecuteTime": {
     "end_time": "2022-04-25T11:55:53.590306Z",
     "start_time": "2022-04-25T11:55:53.575214Z"
    }
   },
   "outputs": [
    {
     "name": "stdout",
     "output_type": "stream",
     "text": [
      "p_val = 7.992664956146811e-05\n",
      "0.0222 in [0.0112, 0.0332]\n"
     ]
    }
   ],
   "source": [
    "#1. Perform a Wald test for equality of the means. Use the nonparametric plug-in estimator. \n",
    "# Report the p-value and a 95 per cent confidence interval for the difference of means. What do you conclude?\n",
    "conf_percent = 95.\n",
    "\n",
    "delta = X.mean() - Y.mean()\n",
    "se = np.sqrt(np.var(X)/X.shape[0] + np.var(Y)/Y.shape[0])\n",
    "\n",
    "z = scipy.stats.norm.ppf(1. - (1. - conf_percent/100)/2)\n",
    "conf_interval = [delta - se*z, delta + se*z]\n",
    "\n",
    "Wald = delta / se\n",
    "p_val = 2 * (1 - scipy.stats.norm.cdf(abs(Wald)))\n",
    "\n",
    "print(f'p_val = {p_val}')\n",
    "print(f'{round(delta, 4)} in [{round(conf_interval[0], 4)}, {round(conf_interval[1], 4)}]')\n",
    "# p_val is extremely low, which allows us to reject the null hypothesis, i.e., to say that the sample Y is not Mark Twain texts.\n",
    "# In addition, according to the interpretation of the Wald method, we see that the delta is almost in the center of the normal confidence interval, \n",
    "# which is described by p_val ~ 0."
   ]
  },
  {
   "cell_type": "code",
   "execution_count": 12,
   "metadata": {
    "ExecuteTime": {
     "end_time": "2022-04-25T11:55:56.203557Z",
     "start_time": "2022-04-25T11:55:53.593162Z"
    }
   },
   "outputs": [
    {
     "data": {
      "image/png": "[encoded data removed]",
      "text/plain": [
       "<Figure size 576x432 with 1 Axes>"
      ]
     },
     "metadata": {
      "needs_background": "light"
     },
     "output_type": "display_data"
    },
    {
     "name": "stdout",
     "output_type": "stream",
     "text": [
      "p_val = 0.00063\n"
     ]
    }
   ],
   "source": [
    "# Now use a permutation test to avoid the use of large sample methods. What is your conclusion? (Brinegar (1963))\n",
    "N = 100_000\n",
    "n = X.shape[0]\n",
    "m = Y.shape[0]\n",
    "\n",
    "t_obs = abs(delta)\n",
    "sample = np.array(np.hstack((X, Y)))\n",
    "T_values_set = np.zeros(N)\n",
    "for i in range(N):\n",
    "    permutated = np.random.permutation(sample)\n",
    "    T_values_set[i] = abs(np.mean(permutated[:n]) - np.mean(permutated[n:]))\n",
    "        \n",
    "plt.figure(figsize=(8, 6))\n",
    "plt.hist(T_values_set, alpha = 0.4, facecolor = 'cyan', edgecolor = 'blue', hatch = '\\\\')\n",
    "plt.axvline(t_obs, color = 'black', ls = '--')\n",
    "plt.xlim(left=0)\n",
    "plt.xlabel('$T$')\n",
    "plt.grid()\n",
    "plt.show()\n",
    "\n",
    "print(f'p_val = {np.sum(T_values_set > t_obs)/N}')\n",
    "# Again, p_val is extremely low, which allows us to reject the null hypothesis, i.e., to say that the sample Y is not Mark Twain texts."
   ]
  },
  {
   "cell_type": "code",
   "execution_count": 13,
   "metadata": {
    "ExecuteTime": {
     "end_time": "2022-04-25T11:55:56.400778Z",
     "start_time": "2022-04-25T11:55:56.205497Z"
    }
   },
   "outputs": [
    {
     "data": {
      "image/png": "[encoded data removed]",
      "text/plain": [
       "<Figure size 720x432 with 1 Axes>"
      ]
     },
     "metadata": {
      "needs_background": "light"
     },
     "output_type": "display_data"
    },
    {
     "name": "stdout",
     "output_type": "stream",
     "text": [
      "norm, power = 0.3106759746619173\n"
     ]
    }
   ],
   "source": [
    "# Assume that samples do indeed come from different populations. \n",
    "# Additionally, observed sample means and variaces for the two samples are equal to the true values for the respective population. \n",
    "# Estimate the power of the two tests above under two model distributions for the data: Normal and Beta \n",
    "\n",
    "# We can reckon the power of the test as a 1 - beta = 1 - false negative rate (type 2 error).\n",
    "# The parameters of the distributions will be determined on the basis of the empirical expectation and variance of each of the samples.\n",
    "\n",
    "alpha = 0.05\n",
    "\n",
    "plt.figure(figsize=(10, 6))\n",
    "# normal distribution\n",
    "rv1 = scipy.stats.norm(loc=np.mean(X), scale=np.sqrt(np.var(X)))\n",
    "x = np.linspace(rv1.ppf(0.0001), rv1.ppf(0.9999), 100)\n",
    "plt.plot(x, rv1.pdf(x), 'b-', lw=2, label='X')\n",
    "\n",
    "rv2 = scipy.stats.norm(loc=np.mean(Y), scale=np.sqrt(np.var(Y)))\n",
    "x = np.linspace(rv2.ppf(0.0001), rv2.ppf(0.9999), 100)\n",
    "plt.plot(x, rv2.pdf(x), 'r-', lw=2, label='Y')\n",
    "\n",
    "plt.axvline(rv1.ppf(alpha/2), color='b', ls='--')\n",
    "plt.axvline(rv1.ppf(1.-alpha/2), color='b', ls='--')\n",
    "\n",
    "plt.fill_between(np.linspace(rv2.ppf(1e-6), rv1.ppf(alpha/2), 100),\n",
    "                 rv2.pdf(np.linspace(rv2.ppf(1e-6), rv1.ppf(alpha/2), 100)), \n",
    "                 color = 'pink', alpha = 0.5, hatch = '//')\n",
    "\n",
    "plt.fill_between(np.linspace(rv1.ppf(1 - alpha/2), rv2.ppf(1.-1e-6), 100),\n",
    "                 rv2.pdf(np.linspace(rv1.ppf(1 - alpha/2), rv2.ppf(1.-1e-6), 100)), \n",
    "                 color = 'pink', alpha = 0.5, hatch = '//', label = 'power')\n",
    "\n",
    "\n",
    "plt.grid()\n",
    "plt.legend()\n",
    "plt.show()\n",
    "\n",
    "# For the null hypothesis (blue, sampling distribution X) and the alternative hypothesis (red, sampling distribution Y) we obtain:\n",
    "power = rv2.cdf(rv1.ppf(alpha/2)) + (1 - rv2.cdf(rv1.ppf(1.-alpha/2)))\n",
    "print(f'norm, power = {power}')"
   ]
  },
  {
   "cell_type": "code",
   "execution_count": 14,
   "metadata": {
    "ExecuteTime": {
     "end_time": "2022-04-25T11:55:56.578835Z",
     "start_time": "2022-04-25T11:55:56.401991Z"
    }
   },
   "outputs": [
    {
     "data": {
      "image/png": "[encoded data removed]",
      "text/plain": [
       "<Figure size 720x432 with 1 Axes>"
      ]
     },
     "metadata": {
      "needs_background": "light"
     },
     "output_type": "display_data"
    },
    {
     "name": "stdout",
     "output_type": "stream",
     "text": [
      "beta, power = 0.33497115718082604\n"
     ]
    }
   ],
   "source": [
    "alpha = 0.05\n",
    "\n",
    "# beta distribution\n",
    "E = np.mean(X)\n",
    "D = np.var(X)\n",
    "a = ((1 - E)/D - 1/E)*E**2\n",
    "b = a*(1/E - 1)\n",
    "rv1 = scipy.stats.beta(a, b)\n",
    "\n",
    "E = np.mean(Y)\n",
    "D = np.var(Y)\n",
    "a = ((1 - E)/D - 1/E)*E**2\n",
    "b = a*(1/E - 1)\n",
    "rv2 = scipy.stats.beta(a, b)\n",
    "\n",
    "plt.figure(figsize=(10, 6))\n",
    "\n",
    "x = np.linspace(rv1.ppf(0.0001), rv1.ppf(0.9999), 100)\n",
    "plt.plot(x, rv1.pdf(x), 'b-', lw=2, label='X')\n",
    "\n",
    "x = np.linspace(rv2.ppf(0.0001), rv2.ppf(0.9999), 100)\n",
    "plt.plot(x, rv2.pdf(x), 'r-', lw=2, label='Y')\n",
    "\n",
    "plt.axvline(rv1.ppf(alpha/2), color='b', ls='--')\n",
    "plt.axvline(rv1.ppf(1.-alpha/2), color='b', ls='--')\n",
    "\n",
    "plt.fill_between(np.linspace(rv2.ppf(1e-6), rv1.ppf(alpha/2), 100),\n",
    "                 rv2.pdf(np.linspace(rv2.ppf(1e-6), rv1.ppf(alpha/2), 100)), \n",
    "                 color = 'pink', alpha = 0.5, hatch = '//')\n",
    "\n",
    "plt.fill_between(np.linspace(rv1.ppf(1 - alpha/2), rv2.ppf(1.-1e-6), 100),\n",
    "                 rv2.pdf(np.linspace(rv1.ppf(1 - alpha/2), rv2.ppf(1.-1e-6), 100)), \n",
    "                 color = 'pink', alpha = 0.5, hatch = '//', label = 'power')\n",
    "\n",
    "plt.grid()\n",
    "plt.legend()\n",
    "plt.show()\n",
    "\n",
    "# For the null hypothesis (blue, sampling distribution X) and the alternative hypothesis (red, sampling distribution Y) we obtain:\n",
    "power = rv2.cdf(rv1.ppf(alpha/2)) + (1 - rv2.cdf(rv1.ppf(1.-alpha/2)))\n",
    "print(f'beta, power = {power}')"
   ]
  },
  {
   "cell_type": "code",
   "execution_count": null,
   "metadata": {},
   "outputs": [],
   "source": []
  }
 ],
 "metadata": {
  "kernelspec": {
   "display_name": "Python 3",
   "language": "python",
   "name": "python3"
  },
  "language_info": {
   "codemirror_mode": {
    "name": "ipython",
    "version": 3
   },
   "file_extension": ".py",
   "mimetype": "text/x-python",
   "name": "python",
   "nbconvert_exporter": "python",
   "pygments_lexer": "ipython3",
   "version": "3.7.4"
  }
 },
 "nbformat": 4,
 "nbformat_minor": 4
}
